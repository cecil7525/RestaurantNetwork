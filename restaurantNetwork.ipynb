{
 "cells": [
  {
   "cell_type": "code",
   "execution_count": 1,
   "metadata": {},
   "outputs": [
    {
     "name": "stderr",
     "output_type": "stream",
     "text": [
      "  0%|          | 0/5172198 [00:00<?, ?it/s]\n"
     ]
    },
    {
     "ename": "AttributeError",
     "evalue": "'str' object has no attribute 'groupby'",
     "output_type": "error",
     "traceback": [
      "\u001b[1;31m---------------------------------------------------------------------------\u001b[0m",
      "\u001b[1;31mAttributeError\u001b[0m                            Traceback (most recent call last)",
      "Cell \u001b[1;32mIn[1], line 15\u001b[0m\n\u001b[0;32m     12\u001b[0m \u001b[38;5;66;03m# Loop through the file in chunks\u001b[39;00m\n\u001b[0;32m     13\u001b[0m \u001b[38;5;28;01mfor\u001b[39;00m chunk \u001b[38;5;129;01min\u001b[39;00m tqdm(pd\u001b[38;5;241m.\u001b[39mread_csv(file_path, usecols\u001b[38;5;241m=\u001b[39m[\u001b[38;5;124m'\u001b[39m\u001b[38;5;124mname\u001b[39m\u001b[38;5;124m'\u001b[39m, \u001b[38;5;124m'\u001b[39m\u001b[38;5;124muser_id\u001b[39m\u001b[38;5;124m'\u001b[39m])):\n\u001b[0;32m     14\u001b[0m     \u001b[38;5;66;03m# Iterate over each user group in the chunk\u001b[39;00m\n\u001b[1;32m---> 15\u001b[0m     \u001b[38;5;28;01mfor\u001b[39;00m user_id, group \u001b[38;5;129;01min\u001b[39;00m chunk\u001b[38;5;241m.\u001b[39mgroupby(\u001b[38;5;124m'\u001b[39m\u001b[38;5;124muser_id\u001b[39m\u001b[38;5;124m'\u001b[39m):\n\u001b[0;32m     16\u001b[0m         \u001b[38;5;66;03m# Get the list of business names that this user reviewed\u001b[39;00m\n\u001b[0;32m     17\u001b[0m         businesses \u001b[38;5;241m=\u001b[39m group[\u001b[38;5;124m'\u001b[39m\u001b[38;5;124mname\u001b[39m\u001b[38;5;124m'\u001b[39m]\u001b[38;5;241m.\u001b[39mtolist()\n\u001b[0;32m     19\u001b[0m         \u001b[38;5;66;03m# Connect each business (restaurant) that the user has reviewed to every other business they reviewed\u001b[39;00m\n",
      "\u001b[1;31mAttributeError\u001b[0m: 'str' object has no attribute 'groupby'"
     ]
    }
   ],
   "source": [
    "import pandas as pd\n",
    "import networkx as nx\n",
    "from tqdm import tqdm\n",
    "import pickle\n",
    "\n",
    "# Set the file path to your dataset\n",
    "file_path = 'data/precovid_reviews.csv'\n",
    "\n",
    "# Initialize an empty graph\n",
    "G = nx.Graph()\n",
    "\n",
    "# Loop through the file in chunks\n",
    "for chunk in tqdm(pd.read_csv(file_path, usecols=['name', 'user_id'])):\n",
    "    # Iterate over each user group in the chunk\n",
    "    for user_id, group in chunk.groupby('user_id'):\n",
    "        # Get the list of business names that this user reviewed\n",
    "        businesses = group['name'].tolist()\n",
    "\n",
    "        # Connect each business (restaurant) that the user has reviewed to every other business they reviewed\n",
    "        for i in range(len(businesses)):\n",
    "            for j in range(i + 1, len(businesses)):\n",
    "                business_a = businesses[i]\n",
    "                business_b = businesses[j]\n",
    "                \n",
    "                # Add an edge between the two businesses\n",
    "                G.add_edge(business_a, business_b)\n",
    "\n",
    "# Get the number of nodes (restaurants) and edges (connections between restaurants)\n",
    "num_nodes = G.number_of_nodes()\n",
    "num_edges = G.number_of_edges()\n",
    "\n",
    "# Print the results\n",
    "print(f\"Number of restaurants (nodes): {num_nodes}\")\n",
    "print(f\"Number of connections (edges): {num_edges}\")\n",
    "\n",
    "# Additional: View some example nodes and edges to understand the structure\n",
    "print(\"\\nSample of nodes (restaurants):\", list(G.nodes)[:10])  # First 10 nodes\n",
    "print(\"\\nSample of edges (connections):\", list(G.edges)[:10])  # First 10 edges"
   ]
  }
 ],
 "metadata": {
  "kernelspec": {
   "display_name": "base",
   "language": "python",
   "name": "python3"
  },
  "language_info": {
   "codemirror_mode": {
    "name": "ipython",
    "version": 3
   },
   "file_extension": ".py",
   "mimetype": "text/x-python",
   "name": "python",
   "nbconvert_exporter": "python",
   "pygments_lexer": "ipython3",
   "version": "3.11.5"
  }
 },
 "nbformat": 4,
 "nbformat_minor": 2
}
